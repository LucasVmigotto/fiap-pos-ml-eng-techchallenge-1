{
 "cells": [
  {
   "cell_type": "markdown",
   "metadata": {},
   "source": [
    "# Tech Challenge"
   ]
  },
  {
   "cell_type": "markdown",
   "metadata": {},
   "source": [
    "## Descrição\n",
    "\n",
    "Você foi contratado(a) para uma consultoria e seu trabalho envolve analisar os dados de vitivinicultura da Embrapa, os quais estão disponíveis [aqui](http://vitibrasil.cnpuv.embrapa.br/index.php).\n",
    "\n",
    "A ideia do projeto é a criação de uma _API_ pública de consulta nos dados do site nas respectivas abas:\n",
    "\n",
    "* Produção\n",
    "* Processamento\n",
    "* Comercialização\n",
    "* Importação\n",
    "* Exportação\n",
    "\n",
    "A _API_ vai servir para alimentar uma base de dados que futuramente será usada para um modelo de _Machine Learning_.\n",
    "\n",
    "Seus objetivos incluem:\n",
    "\n",
    "* Criar uma Rest _API_ em [Python](https://www.python.org/) que faça a consulta no [site da Embrapa](http://vitibrasil.cnpuv.embrapa.br/index.php).\n",
    "* Sua _API_ deve estar documentada.\n",
    "* É recomendável (não obrigatório) a escolha de um método de autenticação ([`JWT`](https://jwt.io), por exemplo).\n",
    "* Criar um plano para fazer o _deploy_ da _API_, desenhando a arquitetura do projeto desde a ingestão até a alimentação do modelo (aqui não é necessário elaborar um modelo de ML, mas é preciso que vocês escolham um cenário interessante em que a _API_ possa ser utilizada).\n",
    "* Fazer um _MVP_ realizando o _deploy_ com um link compartilhável e um repositório no [GitHub](https://github.com/LucasVmigotto/fiap-pos-ml-eng-techchallenge-1)."
   ]
  },
  {
   "cell_type": "markdown",
   "metadata": {},
   "source": [
    "## Setup"
   ]
  },
  {
   "cell_type": "markdown",
   "metadata": {},
   "source": [
    "### Importação de Libs"
   ]
  },
  {
   "cell_type": "code",
   "execution_count": 2,
   "metadata": {},
   "outputs": [],
   "source": [
    "from os.path import exists\n",
    "from os import listdir\n",
    "from urllib.request import urlretrieve\n",
    "from pathlib import Path\n",
    "\n",
    "import numpy as np\n",
    "import pandas as pd\n",
    "import seaborn\n",
    "from tqdm import tqdm\n",
    "from matplotlib import pyplot as plt"
   ]
  },
  {
   "cell_type": "markdown",
   "metadata": {},
   "source": [
    "### Constantes"
   ]
  },
  {
   "cell_type": "code",
   "execution_count": 3,
   "metadata": {},
   "outputs": [],
   "source": [
    "BASE_URL = 'http://vitibrasil.cnpuv.embrapa.br/download/'\n",
    "\n",
    "CSV_URLS = dict(\n",
    "    producao='Producao.csv',\n",
    "    processamento=dict(viniferas='ProcessaViniferas.csv',\n",
    "                       americanas='ProcessaAmericanas.csv',\n",
    "                       mesa='ProcessaMesa.csv',\n",
    "                       sem_classificacao='ProcessaSemclass.csv'),\n",
    "    comercializacao='Comercio.csv',\n",
    "    importacao=dict(mesa='ImpVinhos.csv',\n",
    "                    espumantes='ImpEspumantes.csv',\n",
    "                    frescas='ImpFrescas.csv',\n",
    "                    passas='ImpPassas.csv',\n",
    "                    suco='ImpSuco.csv'),\n",
    "    exportacao=dict(mesa='ExpVinho.csv',\n",
    "                    espumantes='ExpEspumantes.csv',\n",
    "                    frescas='ExpUva.csv',\n",
    "                    suco='ExpSuco.csv'),\n",
    ")"
   ]
  },
  {
   "cell_type": "code",
   "execution_count": 47,
   "metadata": {},
   "outputs": [],
   "source": [
    "PATH_BASE_DATA = Path('./data')\n",
    "PATH_RAW_DATA = Path('./data') / 'raw'\n",
    "PATH_INTERIM_DATA = Path('./data') / 'interim'\n",
    "\n",
    "SEED = 42\n",
    "\n",
    "np.random.seed(SEED)\n",
    "\n",
    "PATH_RAW_DATA.mkdir(parents=True, exist_ok=True)\n",
    "PATH_INTERIM_DATA.mkdir(parents=True, exist_ok=True)"
   ]
  },
  {
   "cell_type": "markdown",
   "metadata": {},
   "source": [
    "### Utils"
   ]
  },
  {
   "cell_type": "code",
   "execution_count": 39,
   "metadata": {},
   "outputs": [],
   "source": [
    "def download_files(url: str, save_path: Path, is_retry: bool = False) -> None:\n",
    "    try:\n",
    "        if not exists(save_path):\n",
    "            urlretrieve(url, save_path)\n",
    "    except ConnectionResetError:\n",
    "        print(f'File {url} could not be downloaded')\n",
    "        if is_retry:\n",
    "            download_files(url, save_path, True)\n",
    "        return"
   ]
  },
  {
   "cell_type": "code",
   "execution_count": 40,
   "metadata": {},
   "outputs": [],
   "source": [
    "def download_data_files(data_files_structure: dict, parent_path: Path = Path('')):\n",
    "    for key, value in tqdm(data_files_structure.items()):\n",
    "        if isinstance(value, dict):\n",
    "            download_data_files(value, parent_path / key)\n",
    "            continue\n",
    "        (PATH_RAW_DATA / parent_path).mkdir(parents=True,\n",
    "                                            exist_ok=True)\n",
    "        download_files(url=BASE_URL + value,\n",
    "                       save_path=PATH_RAW_DATA / parent_path / value.lower())"
   ]
  },
  {
   "cell_type": "markdown",
   "metadata": {},
   "source": [
    "## Coleta dos Dados"
   ]
  },
  {
   "cell_type": "code",
   "execution_count": 41,
   "metadata": {},
   "outputs": [
    {
     "name": "stderr",
     "output_type": "stream",
     "text": [
      "100%|██████████| 4/4 [00:01<00:00,  3.23it/s]\n",
      "100%|██████████| 5/5 [00:01<00:00,  3.38it/s]\n",
      "100%|██████████| 4/4 [00:02<00:00,  1.56it/s]\n",
      "100%|██████████| 5/5 [00:05<00:00,  1.18s/it]\n"
     ]
    },
    {
     "data": {
      "text/plain": [
       "['comercio.csv',\n",
       " 'importacao',\n",
       " 'data.zip',\n",
       " 'producao.csv',\n",
       " 'exportacao',\n",
       " '.gitkeep',\n",
       " 'estimativa_dou_2020.xls',\n",
       " 'processamento']"
      ]
     },
     "execution_count": 41,
     "metadata": {},
     "output_type": "execute_result"
    }
   ],
   "source": [
    "download_data_files(CSV_URLS)\n",
    "listdir(PATH_RAW_DATA)"
   ]
  },
  {
   "cell_type": "markdown",
   "metadata": {},
   "source": [
    "* Verificar o header de cada arquivo `.csv` - conferir o tipo de separador utilizado"
   ]
  },
  {
   "cell_type": "code",
   "execution_count": 64,
   "metadata": {},
   "outputs": [
    {
     "name": "stdout",
     "output_type": "stream",
     "text": [
      "==> ./data/raw/exportacao/expespumantes.csv <==\n",
      "Id;País;1970;1970;1971;1971;1972;1972;1973;1973;1974;1974;1975;1975;1976;1976;1977;1977;1978;1978;1979;1979;1980;1980;1981;1981;1982;1982;1983;1983;1984;1984;1985;1985;1986;1986;1987;1987;1988;1988;1989;1989;1990;1990;1991;1991;1992;1992;1993;1993;1994;1994;1995;1995;1996;1996;1997;1997;1998;1998;1999;1999;2000;2000;2001;2001;2002;2002;2003;2003;2004;2004;2005;2005;2006;2006;2007;2007;2008;2008;2009;2009;2010;2010;2011;2011;2012;2012;2013;2013;2014;2014;2015;2015;2016;2016;2017;2017;2018;2018;2019;2019;2020;2020;2021;2021;2022;2022\n",
      "\n",
      "==> ./data/raw/exportacao/expsuco.csv <==\n",
      "Id;País;1970;1970;1971;1971;1972;1972;1973;1973;1974;1974;1975;1975;1976;1976;1977;1977;1978;1978;1979;1979;1980;1980;1981;1981;1982;1982;1983;1983;1984;1984;1985;1985;1986;1986;1987;1987;1988;1988;1989;1989;1990;1990;1991;1991;1992;1992;1993;1993;1994;1994;1995;1995;1996;1996;1997;1997;1998;1998;1999;1999;2000;2000;2001;2001;2002;2002;2003;2003;2004;2004;2005;2005;2006;2006;2007;2007;2008;2008;2009;2009;2010;2010;2011;2011;2012;2012;2013;2013;2014;2014;2015;2015;2016;2016;2017;2017;2018;2018;2019;2019;2020;2020;2021;2021;2022;2022\n",
      "\n",
      "==> ./data/raw/exportacao/expuva.csv <==\n",
      "Id;País;1970;1970;1971;1971;1972;1972;1973;1973;1974;1974;1975;1975;1976;1976;1977;1977;1978;1978;1979;1979;1980;1980;1981;1981;1982;1982;1983;1983;1984;1984;1985;1985;1986;1986;1987;1987;1988;1988;1989;1989;1990;1990;1991;1991;1992;1992;1993;1993;1994;1994;1995;1995;1996;1996;1997;1997;1998;1998;1999;1999;2000;2000;2001;2001;2002;2002;2003;2003;2004;2004;2005;2005;2006;2006;2007;2007;2008;2008;2009;2009;2010;2010;2011;2011;2012;2012;2013;2013;2014;2014;2015;2015;2016;2016;2017;2017;2018;2018;2019;2019;2020;2020;2021;2021;2022;2022\n",
      "\n",
      "==> ./data/raw/exportacao/expvinho.csv <==\n",
      "Id;País;1970;1970;1971;1971;1972;1972;1973;1973;1974;1974;1975;1975;1976;1976;1977;1977;1978;1978;1979;1979;1980;1980;1981;1981;1982;1982;1983;1983;1984;1984;1985;1985;1986;1986;1987;1987;1988;1988;1989;1989;1990;1990;1991;1991;1992;1992;1993;1993;1994;1994;1995;1995;1996;1996;1997;1997;1998;1998;1999;1999;2000;2000;2001;2001;2002;2002;2003;2003;2004;2004;2005;2005;2006;2006;2007;2007;2008;2008;2009;2009;2010;2010;2011;2011;2012;2012;2013;2013;2014;2014;2015;2015;2016;2016;2017;2017;2018;2018;2019;2019;2020;2020;2021;2021;2022;2022\n",
      "\n",
      "==> ./data/raw/importacao/impespumantes.csv <==\n",
      "Id;País;1970;1970;1971;1971;1972;1972;1973;1973;1974;1974;1975;1975;1976;1976;1977;1977;1978;1978;1979;1979;1980;1980;1981;1981;1982;1982;1983;1983;1984;1984;1985;1985;1986;1986;1987;1987;1988;1988;1989;1989;1990;1990;1991;1991;1992;1992;1993;1993;1994;1994;1995;1995;1996;1996;1997;1997;1998;1998;1999;1999;2000;2000;2001;2001;2002;2002;2003;2003;2004;2004;2005;2005;2006;2006;2007;2007;2008;2008;2009;2009;2010;2010;2011;2011;2012;2012;2013;2013;2014;2014;2015;2015;2016;2016;2017;2017;2018;2018;2019;2019;2020;2020;2021;2021;2022;2022\n",
      "\n",
      "==> ./data/raw/importacao/impfrescas.csv <==\n",
      "Id;País;1970;1970;1971;1971;1972;1972;1973;1973;1974;1974;1975;1975;1976;1976;1977;1977;1978;1978;1979;1979;1980;1980;1981;1981;1982;1982;1983;1983;1984;1984;1985;1985;1986;1986;1987;1987;1988;1988;1989;1989;1990;1990;1991;1991;1992;1992;1993;1993;1994;1994;1995;1995;1996;1996;1997;1997;1998;1998;1999;1999;2000;2000;2001;2001;2002;2002;2003;2003;2004;2004;2005;2005;2006;2006;2007;2007;2008;2008;2009;2009;2010;2010;2011;2011;2012;2012;2013;2013;2014;2014;2015;2015;2016;2016;2017;2017;2018;2018;2019;2019;2020;2020;2021;2021;2022;2022\n",
      "\n",
      "==> ./data/raw/importacao/imppassas.csv <==\n",
      "Id;País;1970;1970;1971;1971;1972;1972;1973;1973;1974;1974;1975;1975;1976;1976;1977;1977;1978;1978;1979;1979;1980;1980;1981;1981;1982;1982;1983;1983;1984;1984;1985;1985;1986;1986;1987;1987;1988;1988;1989;1989;1990;1990;1991;1991;1992;1992;1993;1993;1994;1994;1995;1995;1996;1996;1997;1997;1998;1998;1999;1999;2000;2000;2001;2001;2002;2002;2003;2003;2004;2004;2005;2005;2006;2006;2007;2007;2008;2008;2009;2009;2010;2010;2011;2011;2012;2012;2013;2013;2014;2014;2015;2015;2016;2016;2017;2017;2018;2018;2019;2019;2020;2020;2021;2021;2022;2022\n",
      "\n",
      "==> ./data/raw/importacao/impsuco.csv <==\n",
      "Id;País;1970;1970;1971;1971;1972;1972;1973;1973;1974;1974;1975;1975;1976;1976;1977;1977;1978;1978;1979;1979;1980;1980;1981;1981;1982;1982;1983;1983;1984;1984;1985;1985;1986;1986;1987;1987;1988;1988;1989;1989;1990;1990;1991;1991;1992;1992;1993;1993;1994;1994;1995;1995;1996;1996;1997;1997;1998;1998;1999;1999;2000;2000;2001;2001;2002;2002;2003;2003;2004;2004;2005;2005;2006;2006;2007;2007;2008;2008;2009;2009;2010;2010;2011;2011;2012;2012;2013;2013;2014;2014;2015;2015;2016;2016;2017;2017;2018;2018;2019;2019;2020;2020;2021;2021;2021;2021\n",
      "\n",
      "==> ./data/raw/importacao/impvinhos.csv <==\n",
      "Id;País;1970;1970;1971;1971;1972;1972;1973;1973;1974;1974;1975;1975;1976;1976;1977;1977;1978;1978;1979;1979;1980;1980;1981;1981;1982;1982;1983;1983;1984;1984;1985;1985;1986;1986;1987;1987;1988;1988;1989;1989;1990;1990;1991;1991;1992;1992;1993;1993;1994;1994;1995;1995;1996;1996;1997;1997;1998;1998;1999;1999;2000;2000;2001;2001;2002;2002;2003;2003;2004;2004;2005;2005;2006;2006;2007;2007;2008;2008;2009;2009;2010;2010;2011;2011;2012;2012;2013;2013;2014;2014;2015;2015;2016;2016;2017;2017;2018;2018;2019;2019;2020;2020;2021;2021;2022;2022\n",
      "\n",
      "==> ./data/raw/processamento/processaamericanas.csv <==\n",
      "id\tcontrol\tcultivar\t1970\t1971\t1972\t1973\t1974\t1975\t1976\t1977\t1978\t1979\t1980\t1981\t1982\t1983\t1984\t1985\t1986\t1987\t1988\t1989\t1990\t1991\t1992\t1993\t1994\t1995\t1996\t1997\t1998\t1999\t2000\t2001\t2002\t2003\t2004\t2005\t2006\t2007\t2008\t2009\t2010\t2011\t2012\t2013\t2014\t2015\t2016\t2017\t2018\t2019\t2020\t2021\t2022\n",
      "\n",
      "==> ./data/raw/processamento/processamesa.csv <==\n",
      "id\tcontrol\tcultivar\t1970\t1971\t1972\t1973\t1974\t1975\t1976\t1977\t1978\t1979\t1980\t1981\t1982\t1983\t1984\t1985\t1986\t1987\t1988\t1989\t1990\t1991\t1992\t1993\t1994\t1995\t1996\t1997\t1998\t1999\t2000\t2001\t2002\t2003\t2004\t2005\t2006\t2007\t2008\t2009\t2010\t2011\t2012\t2013\t2014\t2015\t2016\t2017\t2018\t2019\t2020\t2021\t2022\n",
      "\n",
      "==> ./data/raw/processamento/processasemclass.csv <==\n",
      "id\tcontrol\tcultivar\t1970\t1971\t1972\t1973\t1974\t1975\t1976\t1977\t1978\t1979\t1980\t1981\t1982\t1983\t1984\t1985\t1986\t1987\t1988\t1989\t1990\t1991\t1992\t1993\t1994\t1995\t1996\t1997\t1998\t1999\t2000\t2001\t2002\t2003\t2004\t2005\t2006\t2007\t2008\t2009\t2010\t2011\t2012\t2013\t2014\t2015\t2016\t2017\t2018\t2019\t2020\t2021\t2022\n",
      "\n",
      "==> ./data/raw/processamento/processaviniferas.csv <==\n",
      "id\tcontrol\tcultivar\t1970\t1971\t1972\t1973\t1974\t1975\t1976\t1977\t1978\t1979\t1980\t1981\t1982\t1983\t1984\t1985\t1986\t1987\t1988\t1989\t1990\t1991\t1992\t1993\t1994\t1995\t1996\t1997\t1998\t1999\t2000\t2001\t2002\t2003\t2004\t2005\t2006\t2007\t2008\t2009\t2010\t2011\t2012\t2013\t2014\t2015\t2016\t2017\t2018\t2019\t2020\t2021\t2022\n"
     ]
    }
   ],
   "source": [
    "! head -n 1 ./data/raw/**/*.csv"
   ]
  },
  {
   "cell_type": "markdown",
   "metadata": {},
   "source": [
    "**Um pouco de cultura**\n",
    "\n",
    "* \"Imaginemos, por um instante, que a humanidade fosse transportada a um país utópico, onde os pombos voem já assados, onde todo o alimento cresça do solo espontaneamente, onde cada homem encontre sua amada ideal e a conquiste sem qualquer dificuldade. Ora, nesse país, muitos homens morreriam de tédio ou se enforcariam nos galhos das árvores, enquanto outros se dedicariam a lutar entre si e a se estrangular, a se assassinar uns aos outros.\" (Arthur Schopenhauer)\n",
    "\n",
    "**TL;DR**\n",
    "\n",
    "* Ciência de dados desbanca Schopenhauer\n",
    "\n",
    "**Whatever**\n",
    "\n",
    "* Todos, com exceção de `processamento` que usa `\\t`, usam, como separador, o `;`"
   ]
  },
  {
   "cell_type": "markdown",
   "metadata": {},
   "source": [
    "## Manipulação dos Dados"
   ]
  },
  {
   "cell_type": "code",
   "execution_count": null,
   "metadata": {},
   "outputs": [],
   "source": []
  },
  {
   "cell_type": "markdown",
   "metadata": {},
   "source": [
    "## Exploração dos Dados"
   ]
  },
  {
   "cell_type": "code",
   "execution_count": null,
   "metadata": {},
   "outputs": [],
   "source": []
  }
 ],
 "metadata": {
  "kernelspec": {
   "display_name": "Python 3 (ipykernel)",
   "language": "python",
   "name": "python3"
  },
  "language_info": {
   "codemirror_mode": {
    "name": "ipython",
    "version": 3
   },
   "file_extension": ".py",
   "mimetype": "text/x-python",
   "name": "python",
   "nbconvert_exporter": "python",
   "pygments_lexer": "ipython3",
   "version": "3.11.8"
  }
 },
 "nbformat": 4,
 "nbformat_minor": 2
}
